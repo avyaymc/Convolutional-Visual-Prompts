{
  "nbformat": 4,
  "nbformat_minor": 0,
  "metadata": {
    "colab": {
      "provenance": [],
      "gpuType": "T4",
      "include_colab_link": true
    },
    "kernelspec": {
      "name": "python3",
      "display_name": "Python 3"
    },
    "language_info": {
      "name": "python"
    },
    "accelerator": "GPU",
    "gpuClass": "standard"
  },
  "cells": [
    {
      "cell_type": "markdown",
      "metadata": {
        "id": "view-in-github",
        "colab_type": "text"
      },
      "source": [
        "<a href=\"https://colab.research.google.com/github/avyaymc/Convolutional-Visual-Prompts/blob/main/contrastive.ipynb\" target=\"_parent\"><img src=\"https://colab.research.google.com/assets/colab-badge.svg\" alt=\"Open In Colab\"/></a>"
      ]
    },
    {
      "cell_type": "markdown",
      "source": [
        "#imports"
      ],
      "metadata": {
        "id": "EQMaWXiz2b6o"
      }
    },
    {
      "cell_type": "code",
      "execution_count": null,
      "metadata": {
        "id": "XAhueIa4vypD"
      },
      "outputs": [],
      "source": [
        "import torch\n",
        "import torch.nn as nn\n",
        "import torch.optim as optim\n",
        "from torchvision import models\n",
        "from torchvision.transforms import Compose, Resize, ToTensor, Normalize"
      ]
    },
    {
      "cell_type": "code",
      "source": [
        "import torch\n",
        "import torch.optim as optim\n",
        "import torchvision\n",
        "import torchvision.transforms as transforms\n",
        "from torch.utils.data import DataLoader, random_split\n",
        "\n",
        "device = torch.device(\"cuda:0\" if torch.cuda.is_available() else \"cpu\")\n",
        "\n",
        "!pip install tqdm\n",
        "import numpy as np\n",
        "import matplotlib.pyplot as plt\n",
        "import tensorflow as tf\n",
        "from tensorflow.keras.datasets import cifar10\n",
        "from tensorflow.keras.models import Sequential\n",
        "from tensorflow.keras.layers import Conv2D\n"
      ],
      "metadata": {
        "colab": {
          "base_uri": "https://localhost:8080/"
        },
        "id": "EfXlW2xHv4A4",
        "outputId": "804ab1ed-c9b9-4a2b-df57-9f3f67b68584"
      },
      "execution_count": null,
      "outputs": [
        {
          "output_type": "stream",
          "name": "stdout",
          "text": [
            "Requirement already satisfied: tqdm in /usr/local/lib/python3.10/dist-packages (4.65.0)\n"
          ]
        }
      ]
    },
    {
      "cell_type": "markdown",
      "source": [
        "#Data"
      ],
      "metadata": {
        "id": "KSOMDvOV2es4"
      }
    },
    {
      "cell_type": "code",
      "source": [
        "import numpy as np\n",
        "from torchvision.transforms import ToTensor\n",
        "from torch.utils.data import Dataset\n",
        "\n",
        "class CIFAR10C(Dataset):\n",
        "    def __init__(self, corruption_npy, labels_npy, transform=None):\n",
        "        self.images = np.load(corruption_npy)\n",
        "        self.labels = np.load(labels_npy)\n",
        "        self.transform = transform\n",
        "\n",
        "    def __len__(self):\n",
        "        return len(self.images)\n",
        "\n",
        "    def __getitem__(self, idx):\n",
        "        image = self.images[idx]\n",
        "        label = self.labels[idx]\n",
        "\n",
        "        if self.transform:\n",
        "            image = self.transform(image)\n",
        "\n",
        "        return image, label"
      ],
      "metadata": {
        "id": "M6ht27MYv5e_"
      },
      "execution_count": null,
      "outputs": []
    },
    {
      "cell_type": "code",
      "source": [
        "import os\n",
        "from google.colab import drive\n",
        "drive.mount('/content/drive')\n",
        "data_folder = \"/content/drive/MyDrive/CIFAR-10-C/\"\n",
        "\n",
        "labels_npy = f\"{data_folder}/labels.npy\"\n",
        "\n",
        "corruption_file = \"fog.npy\"\n",
        "\n",
        "\n",
        "corruption_npy = f\"{data_folder}/{corruption_file}\"\n",
        "\n",
        "te= np.load(corruption_npy)\n",
        "shape=te.shape\n",
        "print(\"shape:\", shape)\n",
        "corruption_name = corruption_file[:-4]\n",
        "datasets = {corruption_name: CIFAR10C(corruption_npy, labels_npy, transform=ToTensor())}\n",
        "\n",
        "# Save the fine-tuned model\n",
        "#model_path = '/content/drive/MyDrive/resnet18_cifar10_finetuned.pth'\n",
        "#torch.save(resnet18_cifar10.state_dict(), model_path)\n"
      ],
      "metadata": {
        "colab": {
          "base_uri": "https://localhost:8080/"
        },
        "id": "aGP7do_KwALe",
        "outputId": "baad0488-f48e-44e4-fd50-d758d32669d4"
      },
      "execution_count": null,
      "outputs": [
        {
          "output_type": "stream",
          "name": "stdout",
          "text": [
            "Mounted at /content/drive\n",
            "shape: (50000, 32, 32, 3)\n"
          ]
        }
      ]
    },
    {
      "cell_type": "code",
      "source": [
        "from tensorflow.keras.datasets import cifar10\n",
        "\n",
        "(x_train, y_train), (_, _) = cifar10.load_data()\n",
        "severity_level = 1\n",
        "filtered_indices = np.where(y_train[:, 0] == severity_level)[0][:10000]\n",
        "x_filtered = x_train[filtered_indices]\n"
      ],
      "metadata": {
        "id": "ciArCLoWQ4RK",
        "colab": {
          "base_uri": "https://localhost:8080/"
        },
        "outputId": "8e72d9f6-deb1-4597-edcf-0047d335e85b"
      },
      "execution_count": null,
      "outputs": [
        {
          "output_type": "stream",
          "name": "stdout",
          "text": [
            "Downloading data from https://www.cs.toronto.edu/~kriz/cifar-10-python.tar.gz\n",
            "170498071/170498071 [==============================] - 16s 0us/step\n"
          ]
        }
      ]
    },
    {
      "cell_type": "code",
      "source": [
        "num_images_to_visualize = 5\n",
        "random_indices = np.random.choice(range(len(x_filtered)), num_images_to_visualize, replace=False)\n"
      ],
      "metadata": {
        "id": "52XfYjVjRCOx"
      },
      "execution_count": null,
      "outputs": []
    },
    {
      "cell_type": "code",
      "source": [
        "\n",
        "\n",
        "plt.figure(figsize=(10, 5))\n",
        "for i, idx in enumerate(random_indices):\n",
        "    plt.subplot(1, num_images_to_visualize, i+1)\n",
        "    plt.imshow(x_filtered[idx])\n",
        "    plt.axis('off')\n",
        "plt.show()\n"
      ],
      "metadata": {
        "colab": {
          "base_uri": "https://localhost:8080/"
        },
        "id": "K3iT2NKzREvq",
        "outputId": "00affc85-2918-4bb4-c66f-c4b9a0ccfcdc"
      },
      "execution_count": null,
      "outputs": [
        {
          "output_type": "display_data",
          "data": {
            "text/plain": [
              "<Figure size 1000x500 with 5 Axes>"
            ],
            "image/png": "[encoded data removed]"
          },
          "metadata": {}
        }
      ]
    },
    {
      "cell_type": "markdown",
      "source": [
        "#models"
      ],
      "metadata": {
        "id": "iIDdM_rb2jmY"
      }
    },
    {
      "cell_type": "markdown",
      "source": [
        "The only difference being the absence of the self supervised model and using contrastive loss alone\n"
      ],
      "metadata": {
        "id": "IfgA20f_2mIH"
      }
    },
    {
      "cell_type": "code",
      "source": [
        "from google.colab import drive\n",
        "import os\n",
        "\n",
        "drive.mount('/content/drive')\n",
        "model_save_path = \"/content/drive/MyDrive/resnet18_cifar10_finetuned.pth\"\n",
        "#model_save_path = '/content/drive/MyDrive/resnet18_cifar10_c_finetuned.pth'\n",
        "\n",
        "def resnet18_cifar():\n",
        "    model = models.resnet18(pretrained=True)\n",
        "    model.conv1 = nn.Conv2d(3, 64, kernel_size=3, stride=1, padding=1, bias=False)\n",
        "    model.maxpool = nn.Identity()\n",
        "    model.avgpool = nn.AdaptiveAvgPool2d((1, 1))\n",
        "    model.fc = nn.Linear(512, 10)\n",
        "    return model\n",
        "\n",
        "\n",
        "resnet18_cifar10 = resnet18_cifar().to(device)\n",
        "\n",
        "\n",
        "resnet18_cifar10.load_state_dict(torch.load(model_save_path))\n",
        "#resnet18_cifar10.load_state_dict(torch.load(model_save_path, map_location=torch.device('cpu')))"
      ],
      "metadata": {
        "colab": {
          "base_uri": "https://localhost:8080/"
        },
        "id": "5XjN0dPvwCEm",
        "outputId": "bbb0bb18-3c36-46a3-9da0-7fae869aa830"
      },
      "execution_count": null,
      "outputs": [
        {
          "output_type": "stream",
          "name": "stdout",
          "text": [
            "Drive already mounted at /content/drive; to attempt to forcibly remount, call drive.mount(\"/content/drive\", force_remount=True).\n"
          ]
        },
        {
          "output_type": "stream",
          "name": "stderr",
          "text": [
            "/usr/local/lib/python3.10/dist-packages/torchvision/models/_utils.py:208: UserWarning: The parameter 'pretrained' is deprecated since 0.13 and may be removed in the future, please use 'weights' instead.\n",
            "  warnings.warn(\n",
            "/usr/local/lib/python3.10/dist-packages/torchvision/models/_utils.py:223: UserWarning: Arguments other than a weight enum or `None` for 'weights' are deprecated since 0.13 and may be removed in the future. The current behavior is equivalent to passing `weights=ResNet18_Weights.IMAGENET1K_V1`. You can also use `weights=ResNet18_Weights.DEFAULT` to get the most up-to-date weights.\n",
            "  warnings.warn(msg)\n",
            "Downloading: \"https://download.pytorch.org/models/resnet18-f37072fd.pth\" to /root/.cache/torch/hub/checkpoints/resnet18-f37072fd.pth\n",
            "100%|██████████| 44.7M/44.7M [00:00<00:00, 128MB/s]\n"
          ]
        },
        {
          "output_type": "execute_result",
          "data": {
            "text/plain": [
              "<All keys matched successfully>"
            ]
          },
          "metadata": {},
          "execution_count": 8
        }
      ]
    },
    {
      "cell_type": "code",
      "source": [
        "import torch.nn.functional as F\n",
        "def contrastive_loss(z, y, tau=0.1, epsilon=1e-8):\n",
        "    z = F.normalize(z, dim=1)\n",
        "    cos_sim = torch.matmul(z, z.T) / (torch.norm(z, dim=1).unsqueeze(1) * torch.norm(z, dim=1).unsqueeze(0) + epsilon)\n",
        "\n",
        "    mask = (y.unsqueeze(1) == y.unsqueeze(0)).float()\n",
        "    mask.fill_diagonal_(0)\n",
        "\n",
        "    cos_sim_max = torch.max(cos_sim, dim=1, keepdim=True)[0]\n",
        "    cos_sim_exp = torch.exp((cos_sim - cos_sim_max) / tau)\n",
        "    cos_sim_exp_sum = cos_sim_exp.sum(1) - torch.diag(cos_sim_exp)\n",
        "    cos_sim_exp_sum_positive = torch.sum(cos_sim_exp * mask, dim=1)\n",
        "\n",
        "    loss = torch.log(cos_sim_exp_sum + epsilon) - torch.log(cos_sim_exp_sum_positive + epsilon)\n",
        "    loss = loss.mean()\n",
        "\n",
        "    return loss\n"
      ],
      "metadata": {
        "id": "eOmvAhNyw5qO"
      },
      "execution_count": null,
      "outputs": []
    },
    {
      "cell_type": "code",
      "source": [
        "class ResNetFeatures(nn.Module):\n",
        "    def __init__(self, original_model, layer_index):\n",
        "        super(ResNetFeatures, self).__init__()\n",
        "        self.features = nn.Sequential(*list(original_model.children())[:-1])\n",
        "        self.layer_index = layer_index\n",
        "\n",
        "    def forward(self, x):\n",
        "        for idx, layer in enumerate(self.features):\n",
        "            x = layer(x)\n",
        "            if idx == self.layer_index:\n",
        "                break\n",
        "        return x\n"
      ],
      "metadata": {
        "id": "A_ful2Zdw6jf"
      },
      "execution_count": null,
      "outputs": []
    },
    {
      "cell_type": "code",
      "source": [
        "def get_last_conv_layer(module):\n",
        "    if isinstance(module, nn.Conv2d):\n",
        "        return module\n",
        "    elif isinstance(module, nn.Sequential) or isinstance(module, nn.Module):\n",
        "        children = list(module.children())\n",
        "        for child in reversed(children):\n",
        "            result = get_last_conv_layer(child)\n",
        "            if result is not None:\n",
        "                return result\n",
        "    return None\n",
        "\n",
        "layer_index = len(list(resnet18_cifar10.children())) - 2\n",
        "last_conv_layer = get_last_conv_layer(resnet18_cifar10)\n",
        "\n",
        "layer_input_channels = last_conv_layer.out_channels if last_conv_layer is not None else None\n",
        "\n",
        "resnet18_cifar10_features = ResNetFeatures(resnet18_cifar10, layer_index)\n",
        "print(\"Last layer output channels:\", layer_input_channels)\n"
      ],
      "metadata": {
        "colab": {
          "base_uri": "https://localhost:8080/"
        },
        "id": "_a4bxRbeLOsL",
        "outputId": "7f254226-a574-4d8e-89c6-a0a4a99b1165"
      },
      "execution_count": null,
      "outputs": [
        {
          "output_type": "stream",
          "name": "stdout",
          "text": [
            "Last layer output channels: 512\n"
          ]
        }
      ]
    },
    {
      "cell_type": "code",
      "source": [
        "with torch.no_grad():\n",
        "    sample_input = torch.randn(1, 3, 32, 32).to(device)\n",
        "    sample_output = resnet18_cifar10_features(sample_input)\n",
        "    feature_shape = sample_output.shape[1:]\n",
        "    feature_dim = torch.prod(torch.tensor(feature_shape)).item()\n",
        "    print(\"Feature shape:\", feature_shape)\n",
        "    print(\"Feature dim:\", feature_dim)"
      ],
      "metadata": {
        "colab": {
          "base_uri": "https://localhost:8080/"
        },
        "id": "p3CTKpgTxDJt",
        "outputId": "b2952f42-12e9-4e3c-d8f1-f93931607e75"
      },
      "execution_count": null,
      "outputs": [
        {
          "output_type": "stream",
          "name": "stdout",
          "text": [
            "Feature shape: torch.Size([512, 1, 1])\n",
            "Feature dim: 512\n"
          ]
        }
      ]
    },
    {
      "cell_type": "code",
      "source": [
        "class ConvKernel(nn.Module):\n",
        "    def __init__(self, kernel_size, in_channels, out_channels):\n",
        "        super(ConvKernel, self).__init__()\n",
        "        self.conv = nn.Conv2d(in_channels, out_channels, kernel_size, stride=1, padding=1)\n",
        "\n",
        "    def forward(self, x):\n",
        "        return self.conv(x)"
      ],
      "metadata": {
        "id": "FzkgVd8K-cKe"
      },
      "execution_count": null,
      "outputs": []
    },
    {
      "cell_type": "code",
      "source": [
        "class ResNetClassifier(nn.Module):\n",
        "    def __init__(self, original_model):\n",
        "        super(ResNetClassifier, self).__init__()\n",
        "        self.classifier = nn.Sequential(*list(original_model.children())[-1:])\n",
        "\n",
        "    def forward(self, x):\n",
        "        x = x.view(x.size(0), -1)\n",
        "        x = self.classifier(x)\n",
        "        return x\n",
        "resnet18_cifar10_classifier = ResNetClassifier(resnet18_cifar10).to(device)"
      ],
      "metadata": {
        "id": "OLhTSZCfsnvV"
      },
      "execution_count": null,
      "outputs": []
    },
    {
      "cell_type": "markdown",
      "source": [
        "#training"
      ],
      "metadata": {
        "id": "GBeYkOuP2uJ5"
      }
    },
    {
      "cell_type": "code",
      "source": [
        "def train_conv_kernel(dataloader, model, classifier, device, learning_rate, contrastive_loss_fn, kernel_optimization_steps=1500):\n",
        "    model.eval()\n",
        "    classifier.eval()\n",
        "\n",
        "    for i, data in enumerate(dataloader, 0):\n",
        "        inputs, labels = data\n",
        "        inputs = inputs.to(device)\n",
        "        labels = labels.to(device)\n",
        "\n",
        "        conv_kernel_module = ConvKernel(kernel_size=3,\n",
        "                                in_channels=layer_input_channels,\n",
        "                                out_channels=layer_input_channels).to(device)\n",
        "\n",
        "        # Initialize the kernel parameters from a uniform distribution\n",
        "        for param in conv_kernel_module.parameters():\n",
        "            param.data.uniform_(-1.0, 1.0)\n",
        "\n",
        "        optimizer = torch.optim.SGD(conv_kernel_module.parameters(), lr=learning_rate, momentum=0.9, weight_decay=1e-5)\n",
        "\n",
        "        with torch.no_grad():\n",
        "            features = model(inputs)\n",
        "        initial_loss = contrastive_loss_fn(features.view(features.size(0), -1), labels)\n",
        "\n",
        "        # Save the initial state of the convolutional kernel\n",
        "        initial_state_dict = conv_kernel_module.state_dict()\n",
        "\n",
        "        for t in range(kernel_optimization_steps):\n",
        "            optimizer.zero_grad()\n",
        "\n",
        "            prompted_features = conv_kernel_module(features)\n",
        "\n",
        "            prompted_features_flattened = prompted_features.view(prompted_features.size(0), -1)\n",
        "\n",
        "            loss = contrastive_loss_fn(prompted_features_flattened, labels)\n",
        "\n",
        "            loss.backward()\n",
        "            torch.nn.utils.clip_grad_norm_(conv_kernel_module.parameters(), 1.0)\n",
        "            optimizer.step()\n",
        "\n",
        "            if t == kernel_optimization_steps - 1:\n",
        "                final_loss = loss.item()\n",
        "\n",
        "        # If the final loss is greater than the initial loss, use the initial kernel parameters\n",
        "        if final_loss > initial_loss.item():\n",
        "            conv_kernel_module.load_state_dict(initial_state_dict)\n",
        "\n",
        "        prompted_features = conv_kernel_module(features)\n",
        "        prompted_features_flattened = prompted_features.view(prompted_features.size(0), -1)\n",
        "\n",
        "        outputs = classifier(prompted_features_flattened)\n",
        "\n",
        "        _, predicted_labels = torch.max(outputs, 1)\n",
        "        correct = (predicted_labels == labels).sum().item()\n",
        "        accuracy = 100 * correct / labels.size(0)\n",
        "\n",
        "        print(f'Batch [{i + 1}/{len(dataloader)}], Loss: {final_loss:.4f}, Accuracy: {accuracy:.2f}%')\n"
      ],
      "metadata": {
        "id": "ecgBCsj5s7Vo"
      },
      "execution_count": null,
      "outputs": []
    },
    {
      "cell_type": "code",
      "source": [
        "learning_rate = 0.001\n",
        "batch_size = 25\n",
        "accumulation_steps = 4\n",
        "corrupted_dataloader = torch.utils.data.DataLoader(datasets['fog'], batch_size=batch_size, shuffle=True, num_workers=2)\n",
        "projection_dim = 512\n",
        "\n",
        "# Load the entire dataset\n",
        "full_dataset = CIFAR10C(corruption_npy, labels_npy, transform=ToTensor())\n",
        "\n",
        "# Create a subset for severity 1\n",
        "severity1_dataset = torch.utils.data.Subset(full_dataset, range(10000))\n",
        "\n",
        "# Create a DataLoader for the subset\n",
        "severity1_dataloader = torch.utils.data.DataLoader(severity1_dataset, batch_size=batch_size, shuffle=True, num_workers=2)\n",
        "\n",
        "# Train the model on the DataLoader\n",
        "train_conv_kernel(severity1_dataloader, resnet18_cifar10_features, resnet18_cifar10_classifier, device, learning_rate, contrastive_loss)\n",
        "\n",
        "\n",
        "#train_conv_kernel(corrupted_dataloader, resnet18_cifar10_features, resnet18_cifar10_classifier, device, learning_rate, contrastive_loss)\n"
      ],
      "metadata": {
        "id": "4GtwooF7wv4W"
      },
      "execution_count": null,
      "outputs": []
    },
    {
      "cell_type": "code",
      "source": [
        "from torchvision.datasets import CIFAR10\n",
        "\n",
        "# Define the transform\n",
        "transform = Compose([\n",
        "    ToTensor(),\n",
        "    Normalize((0.5, 0.5, 0.5), (0.5, 0.5, 0.5))  # Normalize to range [-1, 1]\n",
        "])\n",
        "\n",
        "# Load the non-corrupted CIFAR10 dataset\n",
        "non_corrupted_dataset = CIFAR10(root='./data', train=True, download=True, transform=transform)\n",
        "\n",
        "# Create a DataLoader for the non-corrupted dataset\n",
        "non_corrupted_dataloader = torch.utils.data.DataLoader(non_corrupted_dataset, batch_size=batch_size, shuffle=True, num_workers=2)\n",
        "\n",
        "# Train the model on the DataLoader\n",
        "train_conv_kernel(non_corrupted_dataloader, resnet18_cifar10_features, resnet18_cifar10_classifier, device, learning_rate, contrastive_loss)\n"
      ],
      "metadata": {
        "id": "nv9ZAjmfq8Vm"
      },
      "execution_count": null,
      "outputs": []
    },
    {
      "cell_type": "code",
      "source": [
        "def evaluate_model(dataloader, model, device):\n",
        "    model.eval()\n",
        "    correct = 0\n",
        "    total = 0\n",
        "\n",
        "    with torch.no_grad():\n",
        "        for i, data in enumerate(dataloader, 0):\n",
        "            inputs, labels = data\n",
        "            inputs = inputs.to(device)\n",
        "            labels = labels.to(device)\n",
        "\n",
        "            outputs = model(inputs)\n",
        "\n",
        "            _, predicted_labels = torch.max(outputs.data, 1)\n",
        "            total += labels.size(0)\n",
        "            correct += (predicted_labels == labels).sum().item()\n",
        "\n",
        "            batch_accuracy = 100 * correct / total\n",
        "            print(f'Batch [{i + 1}/{len(dataloader)}], Accuracy: {batch_accuracy:.2f}%')\n",
        "\n",
        "    overall_accuracy = 100 * correct / total\n",
        "    print(f'Overall Accuracy: {overall_accuracy:.2f}%')\n",
        "\n",
        "\n",
        "evaluate_model(corrupted_dataloader, resnet18_cifar10, device)\n"
      ],
      "metadata": {
        "id": "vHTq70Dsvu35",
        "colab": {
          "base_uri": "https://localhost:8080/",
          "height": 1000
        },
        "outputId": "fb0e1278-cb90-416c-cfd1-6eeb9d9e1ac6"
      },
      "execution_count": null,
      "outputs": [
        {
          "output_type": "stream",
          "name": "stdout",
          "text": [
            "Batch [1/2000], Accuracy: 36.00%\n",
            "Batch [2/2000], Accuracy: 40.00%\n",
            "Batch [3/2000], Accuracy: 41.33%\n",
            "Batch [4/2000], Accuracy: 38.00%\n",
            "Batch [5/2000], Accuracy: 41.60%\n",
            "Batch [6/2000], Accuracy: 46.00%\n",
            "Batch [7/2000], Accuracy: 43.43%\n",
            "Batch [8/2000], Accuracy: 45.00%\n",
            "Batch [9/2000], Accuracy: 44.89%\n",
            "Batch [10/2000], Accuracy: 44.80%\n",
            "Batch [11/2000], Accuracy: 46.91%\n",
            "Batch [12/2000], Accuracy: 47.33%\n",
            "Batch [13/2000], Accuracy: 46.15%\n",
            "Batch [14/2000], Accuracy: 46.29%\n",
            "Batch [15/2000], Accuracy: 46.40%\n",
            "Batch [16/2000], Accuracy: 47.25%\n",
            "Batch [17/2000], Accuracy: 47.06%\n",
            "Batch [18/2000], Accuracy: 48.22%\n",
            "Batch [19/2000], Accuracy: 48.21%\n",
            "Batch [20/2000], Accuracy: 47.80%\n",
            "Batch [21/2000], Accuracy: 47.24%\n",
            "Batch [22/2000], Accuracy: 46.55%\n",
            "Batch [23/2000], Accuracy: 46.09%\n",
            "Batch [24/2000], Accuracy: 46.33%\n",
            "Batch [25/2000], Accuracy: 46.24%\n",
            "Batch [26/2000], Accuracy: 46.92%\n",
            "Batch [27/2000], Accuracy: 46.96%\n",
            "Batch [28/2000], Accuracy: 47.71%\n",
            "Batch [29/2000], Accuracy: 47.86%\n",
            "Batch [30/2000], Accuracy: 47.73%\n",
            "Batch [31/2000], Accuracy: 47.87%\n",
            "Batch [32/2000], Accuracy: 48.62%\n",
            "Batch [33/2000], Accuracy: 48.48%\n",
            "Batch [34/2000], Accuracy: 48.12%\n",
            "Batch [35/2000], Accuracy: 47.89%\n",
            "Batch [36/2000], Accuracy: 48.00%\n",
            "Batch [37/2000], Accuracy: 48.22%\n",
            "Batch [38/2000], Accuracy: 48.21%\n",
            "Batch [39/2000], Accuracy: 48.51%\n",
            "Batch [40/2000], Accuracy: 48.50%\n",
            "Batch [41/2000], Accuracy: 48.49%\n",
            "Batch [42/2000], Accuracy: 48.29%\n",
            "Batch [43/2000], Accuracy: 48.09%\n",
            "Batch [44/2000], Accuracy: 48.00%\n",
            "Batch [45/2000], Accuracy: 47.73%\n",
            "Batch [46/2000], Accuracy: 47.74%\n",
            "Batch [47/2000], Accuracy: 47.66%\n",
            "Batch [48/2000], Accuracy: 47.67%\n",
            "Batch [49/2000], Accuracy: 47.76%\n",
            "Batch [50/2000], Accuracy: 47.68%\n",
            "Batch [51/2000], Accuracy: 47.61%\n",
            "Batch [52/2000], Accuracy: 47.46%\n",
            "Batch [53/2000], Accuracy: 47.47%\n",
            "Batch [54/2000], Accuracy: 47.41%\n",
            "Batch [55/2000], Accuracy: 47.56%\n",
            "Batch [56/2000], Accuracy: 47.50%\n",
            "Batch [57/2000], Accuracy: 47.37%\n",
            "Batch [58/2000], Accuracy: 47.24%\n",
            "Batch [59/2000], Accuracy: 46.98%\n",
            "Batch [60/2000], Accuracy: 47.07%\n",
            "Batch [61/2000], Accuracy: 47.08%\n",
            "Batch [62/2000], Accuracy: 47.16%\n",
            "Batch [63/2000], Accuracy: 47.05%\n",
            "Batch [64/2000], Accuracy: 46.94%\n",
            "Batch [65/2000], Accuracy: 47.14%\n",
            "Batch [66/2000], Accuracy: 47.09%\n",
            "Batch [67/2000], Accuracy: 46.93%\n",
            "Batch [68/2000], Accuracy: 46.82%\n",
            "Batch [69/2000], Accuracy: 46.67%\n",
            "Batch [70/2000], Accuracy: 46.80%\n",
            "Batch [71/2000], Accuracy: 46.99%\n",
            "Batch [72/2000], Accuracy: 46.94%\n",
            "Batch [73/2000], Accuracy: 46.96%\n",
            "Batch [74/2000], Accuracy: 46.81%\n",
            "Batch [75/2000], Accuracy: 46.88%\n",
            "Batch [76/2000], Accuracy: 46.95%\n",
            "Batch [77/2000], Accuracy: 46.86%\n",
            "Batch [78/2000], Accuracy: 46.87%\n",
            "Batch [79/2000], Accuracy: 47.19%\n",
            "Batch [80/2000], Accuracy: 47.20%\n",
            "Batch [81/2000], Accuracy: 47.11%\n",
            "Batch [82/2000], Accuracy: 47.02%\n",
            "Batch [83/2000], Accuracy: 47.04%\n",
            "Batch [84/2000], Accuracy: 47.10%\n",
            "Batch [85/2000], Accuracy: 46.82%\n",
            "Batch [86/2000], Accuracy: 46.79%\n",
            "Batch [87/2000], Accuracy: 46.85%\n",
            "Batch [88/2000], Accuracy: 46.64%\n",
            "Batch [89/2000], Accuracy: 46.47%\n",
            "Batch [90/2000], Accuracy: 46.53%\n",
            "Batch [91/2000], Accuracy: 46.59%\n",
            "Batch [92/2000], Accuracy: 46.61%\n",
            "Batch [93/2000], Accuracy: 46.54%\n",
            "Batch [94/2000], Accuracy: 46.77%\n",
            "Batch [95/2000], Accuracy: 46.65%\n",
            "Batch [96/2000], Accuracy: 46.58%\n",
            "Batch [97/2000], Accuracy: 46.60%\n",
            "Batch [98/2000], Accuracy: 46.53%\n",
            "Batch [99/2000], Accuracy: 46.46%\n",
            "Batch [100/2000], Accuracy: 46.36%\n",
            "Batch [101/2000], Accuracy: 46.42%\n",
            "Batch [102/2000], Accuracy: 46.43%\n",
            "Batch [103/2000], Accuracy: 46.68%\n",
            "Batch [104/2000], Accuracy: 46.96%\n",
            "Batch [105/2000], Accuracy: 47.09%\n",
            "Batch [106/2000], Accuracy: 47.13%\n",
            "Batch [107/2000], Accuracy: 47.03%\n",
            "Batch [108/2000], Accuracy: 47.11%\n",
            "Batch [109/2000], Accuracy: 47.01%\n",
            "Batch [110/2000], Accuracy: 46.95%\n",
            "Batch [111/2000], Accuracy: 46.92%\n",
            "Batch [112/2000], Accuracy: 46.86%\n",
            "Batch [113/2000], Accuracy: 46.97%\n",
            "Batch [114/2000], Accuracy: 46.91%\n",
            "Batch [115/2000], Accuracy: 46.96%\n",
            "Batch [116/2000], Accuracy: 46.86%\n",
            "Batch [117/2000], Accuracy: 46.77%\n",
            "Batch [118/2000], Accuracy: 46.88%\n",
            "Batch [119/2000], Accuracy: 46.82%\n",
            "Batch [120/2000], Accuracy: 46.77%\n",
            "Batch [121/2000], Accuracy: 46.81%\n",
            "Batch [122/2000], Accuracy: 47.02%\n",
            "Batch [123/2000], Accuracy: 46.93%\n",
            "Batch [124/2000], Accuracy: 46.90%\n",
            "Batch [125/2000], Accuracy: 46.98%\n",
            "Batch [126/2000], Accuracy: 46.95%\n",
            "Batch [127/2000], Accuracy: 46.87%\n",
            "Batch [128/2000], Accuracy: 46.88%\n",
            "Batch [129/2000], Accuracy: 46.79%\n",
            "Batch [130/2000], Accuracy: 47.05%\n",
            "Batch [131/2000], Accuracy: 47.02%\n",
            "Batch [132/2000], Accuracy: 47.18%\n",
            "Batch [133/2000], Accuracy: 47.19%\n",
            "Batch [134/2000], Accuracy: 47.28%\n",
            "Batch [135/2000], Accuracy: 47.32%\n",
            "Batch [136/2000], Accuracy: 47.32%\n",
            "Batch [137/2000], Accuracy: 47.24%\n",
            "Batch [138/2000], Accuracy: 47.13%\n",
            "Batch [139/2000], Accuracy: 47.08%\n",
            "Batch [140/2000], Accuracy: 47.11%\n",
            "Batch [141/2000], Accuracy: 47.15%\n",
            "Batch [142/2000], Accuracy: 47.24%\n",
            "Batch [143/2000], Accuracy: 47.10%\n",
            "Batch [144/2000], Accuracy: 47.08%\n",
            "Batch [145/2000], Accuracy: 47.06%\n",
            "Batch [146/2000], Accuracy: 46.99%\n",
            "Batch [147/2000], Accuracy: 46.88%\n",
            "Batch [148/2000], Accuracy: 46.84%\n",
            "Batch [149/2000], Accuracy: 46.79%\n",
            "Batch [150/2000], Accuracy: 46.83%\n",
            "Batch [151/2000], Accuracy: 46.83%\n",
            "Batch [152/2000], Accuracy: 46.74%\n",
            "Batch [153/2000], Accuracy: 46.80%\n",
            "Batch [154/2000], Accuracy: 46.88%\n",
            "Batch [155/2000], Accuracy: 46.92%\n",
            "Batch [156/2000], Accuracy: 46.92%\n",
            "Batch [157/2000], Accuracy: 47.06%\n",
            "Batch [158/2000], Accuracy: 47.11%\n",
            "Batch [159/2000], Accuracy: 47.25%\n",
            "Batch [160/2000], Accuracy: 47.27%\n",
            "Batch [161/2000], Accuracy: 47.20%\n",
            "Batch [162/2000], Accuracy: 47.23%\n",
            "Batch [163/2000], Accuracy: 47.29%\n",
            "Batch [164/2000], Accuracy: 47.24%\n",
            "Batch [165/2000], Accuracy: 47.22%\n",
            "Batch [166/2000], Accuracy: 47.18%\n",
            "Batch [167/2000], Accuracy: 47.26%\n",
            "Batch [168/2000], Accuracy: 47.26%\n",
            "Batch [169/2000], Accuracy: 47.22%\n",
            "Batch [170/2000], Accuracy: 47.18%\n",
            "Batch [171/2000], Accuracy: 47.20%\n",
            "Batch [172/2000], Accuracy: 47.23%\n",
            "Batch [173/2000], Accuracy: 47.28%\n",
            "Batch [174/2000], Accuracy: 47.26%\n",
            "Batch [175/2000], Accuracy: 47.18%\n",
            "Batch [176/2000], Accuracy: 47.18%\n",
            "Batch [177/2000], Accuracy: 47.23%\n",
            "Batch [178/2000], Accuracy: 47.24%\n",
            "Batch [179/2000], Accuracy: 47.26%\n",
            "Batch [180/2000], Accuracy: 47.24%\n",
            "Batch [181/2000], Accuracy: 47.29%\n",
            "Batch [182/2000], Accuracy: 47.27%\n",
            "Batch [183/2000], Accuracy: 47.26%\n",
            "Batch [184/2000], Accuracy: 47.26%\n",
            "Batch [185/2000], Accuracy: 47.31%\n",
            "Batch [186/2000], Accuracy: 47.27%\n",
            "Batch [187/2000], Accuracy: 47.34%\n",
            "Batch [188/2000], Accuracy: 47.34%\n",
            "Batch [189/2000], Accuracy: 47.39%\n",
            "Batch [190/2000], Accuracy: 47.37%\n",
            "Batch [191/2000], Accuracy: 47.46%\n",
            "Batch [192/2000], Accuracy: 47.50%\n",
            "Batch [193/2000], Accuracy: 47.42%\n",
            "Batch [194/2000], Accuracy: 47.34%\n",
            "Batch [195/2000], Accuracy: 47.28%\n",
            "Batch [196/2000], Accuracy: 47.27%\n",
            "Batch [197/2000], Accuracy: 47.19%\n",
            "Batch [198/2000], Accuracy: 47.11%\n",
            "Batch [199/2000], Accuracy: 47.08%\n",
            "Batch [200/2000], Accuracy: 47.14%\n",
            "Batch [201/2000], Accuracy: 47.12%\n",
            "Batch [202/2000], Accuracy: 47.07%\n",
            "Batch [203/2000], Accuracy: 47.07%\n",
            "Batch [204/2000], Accuracy: 47.12%\n",
            "Batch [205/2000], Accuracy: 47.14%\n",
            "Batch [206/2000], Accuracy: 47.22%\n",
            "Batch [207/2000], Accuracy: 47.27%\n",
            "Batch [208/2000], Accuracy: 47.31%\n",
            "Batch [209/2000], Accuracy: 47.29%\n",
            "Batch [210/2000], Accuracy: 47.24%\n",
            "Batch [211/2000], Accuracy: 47.20%\n",
            "Batch [212/2000], Accuracy: 47.17%\n",
            "Batch [213/2000], Accuracy: 47.14%\n",
            "Batch [214/2000], Accuracy: 47.16%\n",
            "Batch [215/2000], Accuracy: 47.20%\n",
            "Batch [216/2000], Accuracy: 47.26%\n",
            "Batch [217/2000], Accuracy: 47.32%\n",
            "Batch [218/2000], Accuracy: 47.28%\n",
            "Batch [219/2000], Accuracy: 47.42%\n",
            "Batch [220/2000], Accuracy: 47.47%\n"
          ]
        },
        {
          "output_type": "error",
          "ename": "KeyboardInterrupt",
          "evalue": "ignored",
          "traceback": [
            "\u001b[0;31m---------------------------------------------------------------------------\u001b[0m",
            "\u001b[0;31mKeyboardInterrupt\u001b[0m                         Traceback (most recent call last)",
            "\u001b[0;32m<ipython-input-18-05ef780e7aa6>\u001b[0m in \u001b[0;36m<cell line: 25>\u001b[0;34m()\u001b[0m\n\u001b[1;32m     23\u001b[0m \u001b[0;34m\u001b[0m\u001b[0m\n\u001b[1;32m     24\u001b[0m \u001b[0;34m\u001b[0m\u001b[0m\n\u001b[0;32m---> 25\u001b[0;31m \u001b[0mevaluate_model\u001b[0m\u001b[0;34m(\u001b[0m\u001b[0mcorrupted_dataloader\u001b[0m\u001b[0;34m,\u001b[0m \u001b[0mresnet18_cifar10\u001b[0m\u001b[0;34m,\u001b[0m \u001b[0mdevice\u001b[0m\u001b[0;34m)\u001b[0m\u001b[0;34m\u001b[0m\u001b[0;34m\u001b[0m\u001b[0m\n\u001b[0m",
            "\u001b[0;32m<ipython-input-18-05ef780e7aa6>\u001b[0m in \u001b[0;36mevaluate_model\u001b[0;34m(dataloader, model, device)\u001b[0m\n\u001b[1;32m     17\u001b[0m \u001b[0;34m\u001b[0m\u001b[0m\n\u001b[1;32m     18\u001b[0m             \u001b[0mbatch_accuracy\u001b[0m \u001b[0;34m=\u001b[0m \u001b[0;36m100\u001b[0m \u001b[0;34m*\u001b[0m \u001b[0mcorrect\u001b[0m \u001b[0;34m/\u001b[0m \u001b[0mtotal\u001b[0m\u001b[0;34m\u001b[0m\u001b[0;34m\u001b[0m\u001b[0m\n\u001b[0;32m---> 19\u001b[0;31m             \u001b[0mprint\u001b[0m\u001b[0;34m(\u001b[0m\u001b[0;34mf'Batch [{i + 1}/{len(dataloader)}], Accuracy: {batch_accuracy:.2f}%'\u001b[0m\u001b[0;34m)\u001b[0m\u001b[0;34m\u001b[0m\u001b[0;34m\u001b[0m\u001b[0m\n\u001b[0m\u001b[1;32m     20\u001b[0m \u001b[0;34m\u001b[0m\u001b[0m\n\u001b[1;32m     21\u001b[0m     \u001b[0moverall_accuracy\u001b[0m \u001b[0;34m=\u001b[0m \u001b[0;36m100\u001b[0m \u001b[0;34m*\u001b[0m \u001b[0mcorrect\u001b[0m \u001b[0;34m/\u001b[0m \u001b[0mtotal\u001b[0m\u001b[0;34m\u001b[0m\u001b[0;34m\u001b[0m\u001b[0m\n",
            "\u001b[0;32m/usr/local/lib/python3.10/dist-packages/ipykernel/iostream.py\u001b[0m in \u001b[0;36mwrite\u001b[0;34m(self, string)\u001b[0m\n\u001b[1;32m    400\u001b[0m             \u001b[0mis_child\u001b[0m \u001b[0;34m=\u001b[0m \u001b[0;34m(\u001b[0m\u001b[0;32mnot\u001b[0m \u001b[0mself\u001b[0m\u001b[0;34m.\u001b[0m\u001b[0m_is_master_process\u001b[0m\u001b[0;34m(\u001b[0m\u001b[0;34m)\u001b[0m\u001b[0;34m)\u001b[0m\u001b[0;34m\u001b[0m\u001b[0;34m\u001b[0m\u001b[0m\n\u001b[1;32m    401\u001b[0m             \u001b[0;31m# only touch the buffer in the IO thread to avoid races\u001b[0m\u001b[0;34m\u001b[0m\u001b[0;34m\u001b[0m\u001b[0m\n\u001b[0;32m--> 402\u001b[0;31m             \u001b[0mself\u001b[0m\u001b[0;34m.\u001b[0m\u001b[0mpub_thread\u001b[0m\u001b[0;34m.\u001b[0m\u001b[0mschedule\u001b[0m\u001b[0;34m(\u001b[0m\u001b[0;32mlambda\u001b[0m \u001b[0;34m:\u001b[0m \u001b[0mself\u001b[0m\u001b[0;34m.\u001b[0m\u001b[0m_buffer\u001b[0m\u001b[0;34m.\u001b[0m\u001b[0mwrite\u001b[0m\u001b[0;34m(\u001b[0m\u001b[0mstring\u001b[0m\u001b[0;34m)\u001b[0m\u001b[0;34m)\u001b[0m\u001b[0;34m\u001b[0m\u001b[0;34m\u001b[0m\u001b[0m\n\u001b[0m\u001b[1;32m    403\u001b[0m             \u001b[0;32mif\u001b[0m \u001b[0mis_child\u001b[0m\u001b[0;34m:\u001b[0m\u001b[0;34m\u001b[0m\u001b[0;34m\u001b[0m\u001b[0m\n\u001b[1;32m    404\u001b[0m                 \u001b[0;31m# mp.Pool cannot be trusted to flush promptly (or ever),\u001b[0m\u001b[0;34m\u001b[0m\u001b[0;34m\u001b[0m\u001b[0m\n",
            "\u001b[0;32m/usr/local/lib/python3.10/dist-packages/ipykernel/iostream.py\u001b[0m in \u001b[0;36mschedule\u001b[0;34m(self, f)\u001b[0m\n\u001b[1;32m    201\u001b[0m             \u001b[0mself\u001b[0m\u001b[0;34m.\u001b[0m\u001b[0m_events\u001b[0m\u001b[0;34m.\u001b[0m\u001b[0mappend\u001b[0m\u001b[0;34m(\u001b[0m\u001b[0mf\u001b[0m\u001b[0;34m)\u001b[0m\u001b[0;34m\u001b[0m\u001b[0;34m\u001b[0m\u001b[0m\n\u001b[1;32m    202\u001b[0m             \u001b[0;31m# wake event thread (message content is ignored)\u001b[0m\u001b[0;34m\u001b[0m\u001b[0;34m\u001b[0m\u001b[0m\n\u001b[0;32m--> 203\u001b[0;31m             \u001b[0mself\u001b[0m\u001b[0;34m.\u001b[0m\u001b[0m_event_pipe\u001b[0m\u001b[0;34m.\u001b[0m\u001b[0msend\u001b[0m\u001b[0;34m(\u001b[0m\u001b[0;34mb''\u001b[0m\u001b[0;34m)\u001b[0m\u001b[0;34m\u001b[0m\u001b[0;34m\u001b[0m\u001b[0m\n\u001b[0m\u001b[1;32m    204\u001b[0m         \u001b[0;32melse\u001b[0m\u001b[0;34m:\u001b[0m\u001b[0;34m\u001b[0m\u001b[0;34m\u001b[0m\u001b[0m\n\u001b[1;32m    205\u001b[0m             \u001b[0mf\u001b[0m\u001b[0;34m(\u001b[0m\u001b[0;34m)\u001b[0m\u001b[0;34m\u001b[0m\u001b[0;34m\u001b[0m\u001b[0m\n",
            "\u001b[0;32m/usr/local/lib/python3.10/dist-packages/zmq/sugar/socket.py\u001b[0m in \u001b[0;36msend\u001b[0;34m(self, data, flags, copy, track, routing_id, group)\u001b[0m\n\u001b[1;32m    616\u001b[0m                 )\n\u001b[1;32m    617\u001b[0m             \u001b[0mdata\u001b[0m\u001b[0;34m.\u001b[0m\u001b[0mgroup\u001b[0m \u001b[0;34m=\u001b[0m \u001b[0mgroup\u001b[0m\u001b[0;34m\u001b[0m\u001b[0;34m\u001b[0m\u001b[0m\n\u001b[0;32m--> 618\u001b[0;31m         \u001b[0;32mreturn\u001b[0m \u001b[0msuper\u001b[0m\u001b[0;34m(\u001b[0m\u001b[0;34m)\u001b[0m\u001b[0;34m.\u001b[0m\u001b[0msend\u001b[0m\u001b[0;34m(\u001b[0m\u001b[0mdata\u001b[0m\u001b[0;34m,\u001b[0m \u001b[0mflags\u001b[0m\u001b[0;34m=\u001b[0m\u001b[0mflags\u001b[0m\u001b[0;34m,\u001b[0m \u001b[0mcopy\u001b[0m\u001b[0;34m=\u001b[0m\u001b[0mcopy\u001b[0m\u001b[0;34m,\u001b[0m \u001b[0mtrack\u001b[0m\u001b[0;34m=\u001b[0m\u001b[0mtrack\u001b[0m\u001b[0;34m)\u001b[0m\u001b[0;34m\u001b[0m\u001b[0;34m\u001b[0m\u001b[0m\n\u001b[0m\u001b[1;32m    619\u001b[0m \u001b[0;34m\u001b[0m\u001b[0m\n\u001b[1;32m    620\u001b[0m     def send_multipart(\n",
            "\u001b[0;32mzmq/backend/cython/socket.pyx\u001b[0m in \u001b[0;36mzmq.backend.cython.socket.Socket.send\u001b[0;34m()\u001b[0m\n",
            "\u001b[0;32mzmq/backend/cython/socket.pyx\u001b[0m in \u001b[0;36mzmq.backend.cython.socket.Socket.send\u001b[0;34m()\u001b[0m\n",
            "\u001b[0;32mzmq/backend/cython/socket.pyx\u001b[0m in \u001b[0;36mzmq.backend.cython.socket._send_copy\u001b[0;34m()\u001b[0m\n",
            "\u001b[0;32m/usr/local/lib/python3.10/dist-packages/zmq/backend/cython/checkrc.pxd\u001b[0m in \u001b[0;36mzmq.backend.cython.checkrc._check_rc\u001b[0;34m()\u001b[0m\n",
            "\u001b[0;31mKeyboardInterrupt\u001b[0m: "
          ]
        }
      ]
    },
    {
      "cell_type": "code",
      "source": [],
      "metadata": {
        "id": "V1pjgzga3BSe"
      },
      "execution_count": null,
      "outputs": []
    }
  ]
}